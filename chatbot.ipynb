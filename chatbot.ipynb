{
 "cells": [
  {
   "cell_type": "code",
   "execution_count": 1,
   "metadata": {},
   "outputs": [
    {
     "data": {
      "text/plain": [
       "True"
      ]
     },
     "execution_count": 1,
     "metadata": {},
     "output_type": "execute_result"
    }
   ],
   "source": [
    "import os\n",
    "from dotenv import load_dotenv\n",
    "load_dotenv()"
   ]
  },
  {
   "cell_type": "code",
   "execution_count": 2,
   "metadata": {},
   "outputs": [],
   "source": [
    "apikey = os.getenv('OPENAI_API_KEY')"
   ]
  },
  {
   "cell_type": "code",
   "execution_count": 3,
   "metadata": {},
   "outputs": [
    {
     "name": "stdout",
     "output_type": "stream",
     "text": [
      "Defaulting to user installation because normal site-packages is not writeable\n",
      "Requirement already satisfied: openai in /home/trex4096/.local/lib/python3.12/site-packages (1.50.2)\n",
      "Requirement already satisfied: anyio<5,>=3.5.0 in /home/trex4096/.local/lib/python3.12/site-packages (from openai) (4.6.0)\n",
      "Requirement already satisfied: distro<2,>=1.7.0 in /usr/lib/python3.12/site-packages (from openai) (1.9.0)\n",
      "Requirement already satisfied: httpx<1,>=0.23.0 in /home/trex4096/.local/lib/python3.12/site-packages (from openai) (0.27.2)\n",
      "Requirement already satisfied: jiter<1,>=0.4.0 in /home/trex4096/.local/lib/python3.12/site-packages (from openai) (0.5.0)\n",
      "Requirement already satisfied: pydantic<3,>=1.9.0 in /home/trex4096/.local/lib/python3.12/site-packages (from openai) (2.9.2)\n",
      "Requirement already satisfied: sniffio in /home/trex4096/.local/lib/python3.12/site-packages (from openai) (1.3.1)\n",
      "Requirement already satisfied: tqdm>4 in /home/trex4096/.local/lib/python3.12/site-packages (from openai) (4.66.5)\n",
      "Requirement already satisfied: typing-extensions<5,>=4.11 in /usr/lib/python3.12/site-packages (from openai) (4.12.2)\n",
      "Requirement already satisfied: idna>=2.8 in /usr/lib/python3.12/site-packages (from anyio<5,>=3.5.0->openai) (3.7)\n",
      "Requirement already satisfied: certifi in /usr/lib/python3.12/site-packages (from httpx<1,>=0.23.0->openai) (2023.5.7)\n",
      "Requirement already satisfied: httpcore==1.* in /home/trex4096/.local/lib/python3.12/site-packages (from httpx<1,>=0.23.0->openai) (1.0.5)\n",
      "Requirement already satisfied: h11<0.15,>=0.13 in /home/trex4096/.local/lib/python3.12/site-packages (from httpcore==1.*->httpx<1,>=0.23.0->openai) (0.14.0)\n",
      "Requirement already satisfied: annotated-types>=0.6.0 in /home/trex4096/.local/lib/python3.12/site-packages (from pydantic<3,>=1.9.0->openai) (0.7.0)\n",
      "Requirement already satisfied: pydantic-core==2.23.4 in /home/trex4096/.local/lib/python3.12/site-packages (from pydantic<3,>=1.9.0->openai) (2.23.4)\n",
      "\n",
      "\u001b[1m[\u001b[0m\u001b[34;49mnotice\u001b[0m\u001b[1;39;49m]\u001b[0m\u001b[39;49m A new release of pip is available: \u001b[0m\u001b[31;49m24.2\u001b[0m\u001b[39;49m -> \u001b[0m\u001b[32;49m24.3\u001b[0m\n",
      "\u001b[1m[\u001b[0m\u001b[34;49mnotice\u001b[0m\u001b[1;39;49m]\u001b[0m\u001b[39;49m To update, run: \u001b[0m\u001b[32;49mpip install --upgrade pip\u001b[0m\n"
     ]
    }
   ],
   "source": [
    "!pip3 install openai"
   ]
  },
  {
   "cell_type": "code",
   "execution_count": 4,
   "metadata": {},
   "outputs": [],
   "source": [
    "import os\n",
    "import openai\n",
    "\n",
    "client = openai.OpenAI(\n",
    "    base_url=\"https://api.groq.com/openai/v1\",\n",
    "    api_key=\"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\"\n",
    ")"
   ]
  },
  {
   "cell_type": "code",
   "execution_count": 5,
   "metadata": {},
   "outputs": [],
   "source": [
    "def llm_invok(system_prompt,msg):\n",
    "    chat_completion = client.chat.completions.create(\n",
    "        messages=[\n",
    "            {\n",
    "                \"role\": \"system\",\n",
    "                \"content\": system_prompt,\n",
    "            },\n",
    "            {\n",
    "                \"role\": \"user\",\n",
    "                \"content\": msg,\n",
    "            }\n",
    "        ],\n",
    "        model=\"llama-3.1-70b-versatile\",\n",
    "    )\n",
    "\n",
    "    return (chat_completion.choices[0].message.content)\n",
    "    "
   ]
  },
  {
   "cell_type": "code",
   "execution_count": 6,
   "metadata": {},
   "outputs": [
    {
     "name": "stdout",
     "output_type": "stream",
     "text": [
      "4.1 Indemnification Obligations. Subject to the terms and conditions set forth in this, the Indemnifying Party agrees to indemnify, defend, and hold harmless the Indemnified Party from and against any and all damages, liabilities, losses, claims, demands, actions, suits, and expenses (including, without limitation, reasonable attorneys' fees and costs of investigation, litigation, settlement, and judgment) that arise from (i) any breach by the Indemnifying Party of this Agreement; (ii) any gross negligence, wilful misconduct, or fraud by the Indemnifying Party; or (iii) any infringement by the Indemnifying Party of applicable law, arising from any third party claims, suits or proceedings.\n"
     ]
    }
   ],
   "source": [
    "system_prompt = \"Translate the following Hindi text to English Language. The output must be translated english text only\"\n",
    "msg = \"४.१ क्षतिपूर्ति बाध्यताएँ। यहां स्थापित शर्तों और शर्तों के अधीन, क्षतिपूर्ति करने वाले पार्टी यह सहमत होता है कि वह क्षतिपूर्ति करेगी, बचाव करेगी, और क्षतिपूर्ति प्राप्त पार्टी को नुकसान से मुक्त रखेगा, और किसी भी और सभी नुकसानों, देयताओं, क्षतियों, दावों, माँगों, कार्रवाइयों, मुकदमों और खर्चों (कम राशि के लिए वास्तविक वकील के शुल्क और जाँच, मुकदमा, निपटारे, और निर्णय के खर्च सहित) के खिलाफ जो कि इस समझौते के उल्लंघन करके, क्षतिपूर्ति करने वाले पार्टी द्वारा किया गया है; (ii) क्षतिपूर्ति करने वाले पार्टी द्वारा कोई भी गंभीर लापरवाही वाला दुराचार, या धोखाधड़ी; या (iii) क्षतिपूर्ति करने वाले पार्टी द्वारा लागू कानून का उल्लंघन करके, किसी भी तीसरे पक्ष के दावों, मुकदमों या कार्यवाहियों से उत्पन्न हो जाते हैं।\"\n",
    "\n",
    "x = llm_invok(system_prompt,msg)\n",
    "print(x)"
   ]
  },
  {
   "cell_type": "code",
   "execution_count": 7,
   "metadata": {},
   "outputs": [],
   "source": [
    "links = '''\n",
    "[('https://www.youtube.com/watch?v=zYxUaNyiHH8', ''), ('https://www.youtube.com/watch?v=zYxUaNyiHH8', ''), ('https://www.youtube.com/watch?v=g8d5v_NCio4', ''), ('https://www.youtube.com/watch?v=g8d5v_NCio4', ''), ('https://www.youtube.com/watch?v=9bb6AMp2__0', ''), ('https://www.youtube.com/watch?v=9bb6AMp2__0', ''), ('https://www.youtube.com/watch?v=OGq4sFSGoNM', ''), ('https://www.youtube.com/watch?v=OGq4sFSGoNM', ''), ('https://www.youtube.com/watch?v=X_yoX3PkbHE', ''), ('https://www.youtube.com/watch?v=X_yoX3PkbHE', ''), ('https://www.youtube.com/watch?v=BKmv-n0yUYc', ''), ('https://www.youtube.com/watch?v=BKmv-n0yUYc', ''), ('https://www.youtube.com/watch?v=udjcKQMAyd0', ''), ('https://www.youtube.com/watch?v=udjcKQMAyd0', ''), ('https://www.youtube.com/watch?v=mniX7-rKvHk', ''), ('https://www.youtube.com/watch?v=mniX7-rKvHk', ''), ('https://www.youtube.com/watch?v=uOto7frzrCc', ''), ('https://www.youtube.com/watch?v=uOto7frzrCc', ''), ('https://www.youtube.com/watch?v=Nq2wYlWFucg', ''), ('https://www.youtube.com/watch?v=Nq2wYlWFucg', '')]\n",
    "'''"
   ]
  },
  {
   "cell_type": "code",
   "execution_count": 8,
   "metadata": {},
   "outputs": [
    {
     "name": "stdout",
     "output_type": "stream",
     "text": [
      "Patna High Court\n"
     ]
    }
   ],
   "source": [
    "system_prompt = 'Identify the court asked in the following text. The output must be the name of the court only.'\n",
    "msg = 'I want live recordings of patna high court.'\n",
    "\n",
    "x = llm_invok(system_prompt,msg)\n",
    "print(x)"
   ]
  },
  {
   "cell_type": "code",
   "execution_count": 9,
   "metadata": {},
   "outputs": [],
   "source": [
    "system_prompt = 'Below are the user query and his answer of recordings please structure the answer and give him output'\n",
    "\n",
    "msg = f\"\"\"\n",
    "User Query : I want live recordings of patna high court.\n",
    "Recordings of relevant courts link :\n",
    "{links}\n",
    "\"\"\""
   ]
  },
  {
   "cell_type": "code",
   "execution_count": 10,
   "metadata": {},
   "outputs": [
    {
     "name": "stdout",
     "output_type": "stream",
     "text": [
      "**Patna High Court Live Recording Links**\n",
      "\n",
      "Based on your query, here are some live recording links of Patna High Court:\n",
      "\n",
      "1. **https://www.youtube.com/watch?v=zYxUaNyiHH8** \n",
      "2. **https://www.youtube.com/watch?v=g8d5v_NCio4** \n",
      "3. **https://www.youtube.com/watch?v=9bb6AMp2__0** \n",
      "4. **https://www.youtube.com/watch?v=OGq4sFSGoNM** \n",
      "5. **https://www.youtube.com/watch?v=X_yoX3PkbHE** \n",
      "6. **https://www.youtube.com/watch?v=BKmv-n0yUYc** \n",
      "7. **https://www.youtube.com/watch?v=udjcKQMAyd0** \n",
      "8. **https://www.youtube.com/watch?v=mniX7-rKvHk** \n",
      "9. **https://www.youtube.com/watch?v=uOto7frzrCc** \n",
      "10. **https://www.youtube.com/watch?v=Nq2wYlWFucg** \n",
      "\n",
      "Note: These links may or may not be live at the time of your access, as the court recordings may vary based on the court schedule and other factors.\n"
     ]
    }
   ],
   "source": [
    "x = llm_invok(system_prompt,msg)\n",
    "print(x)"
   ]
  },
  {
   "cell_type": "code",
   "execution_count": 41,
   "metadata": {},
   "outputs": [],
   "source": [
    "system_prompt = \"Answer the user query\"\n",
    "msg = \"explain marital rape\""
   ]
  },
  {
   "cell_type": "code",
   "execution_count": 42,
   "metadata": {},
   "outputs": [
    {
     "name": "stdout",
     "output_type": "stream",
     "text": [
      "Marital rape, also known as spousal rape, is a form of domestic violence and a serious human rights violation. It is a non-consensual sexual act committed by a spouse or partner within a marriage or cohabiting relationship. Marital rape can take many forms, including:\n",
      "\n",
      "1. **Forced sex**: When a spouse forces their partner to engage in sex against their will, using physical violence, threats, or coercion.\n",
      "2. **Lack of consent**: When a spouse does not explicitly consent to sex, or is unable to consent due to incapacitation, drugs, or illness.\n",
      "3. **Coercive sex**: When a spouse uses guilt, manipulation, or emotional pressure to obtain sex.\n",
      "4. **Mandatory sex**: When a spouse feels obligated to have sex due to societal or cultural expectations.\n",
      "\n",
      "Marital rape is a serious issue that affects people of all backgrounds, cultures, and socioeconomic statuses. While it is often hidden behind closed doors, it has significant emotional, physical, and psychological consequences for the survivor.\n",
      "\n",
      "**Key facts about marital rape:**\n",
      "\n",
      "1. **Prevalence**: An estimated 1 in 10 women experience marital rape worldwide.\n",
      "2. **Lack of reporting**: Many cases of marital rape go unreported due to fear of retribution, shame, or social stigma.\n",
      "3. **Impact on mental health**: Marital rape survivors often experience anxiety, depression, post-traumatic stress disorder (PTSD), and other mental health issues.\n",
      "4. **Physical harm**: Marital rape can lead to physical injuries, sexually transmitted infections (STIs), and reproductive health problems.\n",
      "5. **Lack of recognition**: Many jurisdictions still do not recognize marital rape as a crime, or have inadequate laws and policies to address the issue.\n",
      "\n",
      "**Addressing marital rape:**\n",
      "\n",
      "1. **Education and awareness**: Educating communities about marital rape, its consequences, and the importance of consent.\n",
      "2. **Legislative reforms**: Implementing laws and policies that recognize marital rape as a crime and provide adequate support for survivors.\n",
      "3. **Support services**: Establishing support services, such as counseling, shelters, and hotlines, for survivors of marital rape.\n",
      "4. **Promoting healthy relationships**: Encouraging healthy relationships built on mutual respect, trust, and communication.\n",
      "\n",
      "**If you or someone you know is experiencing marital rape:**\n",
      "\n",
      "1. **Seek help**: Call a support hotline, such as the National Domestic Violence Hotline (1-800-799-7233 in the US) or a local equivalent.\n",
      "2. **Report the abuse**: Report the abuse to the authorities, if possible.\n",
      "3. **Find a safe space**: Connect with friends, family, or a shelter for support.\n",
      "4. **Remember**: You are not alone, and there is help available.\n",
      "\n",
      "Remember, consent is a fundamental aspect of any healthy relationship, and no one deserves to experience marital rape or any form of abuse.\n"
     ]
    }
   ],
   "source": [
    "msg1 = llm_invok(system_prompt,msg)\n",
    "print(msg1)"
   ]
  },
  {
   "cell_type": "code",
   "execution_count": 13,
   "metadata": {},
   "outputs": [],
   "source": [
    "system_prompt = \"\"\n",
    "msg = \"How is this llm model trained?\""
   ]
  },
  {
   "cell_type": "code",
   "execution_count": 14,
   "metadata": {},
   "outputs": [
    {
     "name": "stdout",
     "output_type": "stream",
     "text": [
      "I'm an AI, and my training data consists of a massive corpus of text, which I use to learn patterns, relationships, and context. My training process involves a combination of natural language processing (NLP) and machine learning techniques. Here's a high-level overview of how I was trained:\n",
      "\n",
      "**Data Collection**: My training data is sourced from a massive corpus of text, which includes a diverse range of sources, such as:\n",
      "\n",
      "1. Web pages\n",
      "2. Books\n",
      "3. Articles\n",
      "4. Research papers\n",
      "5. Forums\n",
      "6. Social media platforms\n",
      "\n",
      "**Preprocessing**: The collected text data is preprocessed to remove unnecessary characters, tokens, and noise. This involves:\n",
      "\n",
      "1. Tokenization: breaking down text into individual words or tokens\n",
      "2. Stopword removal: removing common words like \"the,\" \"and,\" etc.\n",
      "3. Lemmatization: converting words to their base form (e.g., \"running\" becomes \"run\")\n",
      "4. Removing special characters and punctuation\n",
      "\n",
      "**Model Architecture**: My model is based on a transformer architecture, which is particularly well-suited for NLP tasks. The transformer architecture consists of:\n",
      "\n",
      "1. Encoder: takes input text and generates a continuous representation of the input sequence\n",
      "2. Decoder: takes the output of the encoder and generates the response\n",
      "\n",
      "**Training Objective**: My training objective is to predict the next word in a sequence, given the context of the previous words. This is known as a masked language modeling task.\n",
      "\n",
      "**Training Process**: My training process involves the following steps:\n",
      "\n",
      "1. Masking: randomly masking a portion of the input text (e.g., 15%)\n",
      "2. Predicting: predicting the masked words based on the context\n",
      "3. Optimizing: optimizing the model parameters to minimize the difference between the predicted and actual words\n",
      "\n",
      "**Training Data Size**: My training data consists of hundreds of billions of words, which is sourced from a massive corpus of text.\n",
      "\n",
      "**Training Compute**: My training process requires significant computational resources, including:\n",
      "\n",
      "1. High-performance computing clusters\n",
      "2. Graphics processing units (GPUs)\n",
      "3. Tensor processing units (TPUs)\n",
      "\n",
      "**Training Time**: My training process takes several weeks to several months to complete, depending on the complexity of the model and the computational resources available.\n",
      "\n",
      "This is a simplified overview of my training process. If you have any specific questions or want more details, feel free to ask!\n"
     ]
    }
   ],
   "source": [
    "print(llm_invok(system_prompt,msg))"
   ]
  },
  {
   "cell_type": "code",
   "execution_count": 15,
   "metadata": {},
   "outputs": [
    {
     "name": "stdout",
     "output_type": "stream",
     "text": [
      "There will be approximately 6 words in my next response: 'I do not have the information'.\n"
     ]
    }
   ],
   "source": [
    "msg= \"How many words will be there in your next response?\"\n",
    "print(llm_invok(system_prompt,msg))"
   ]
  },
  {
   "cell_type": "code",
   "execution_count": 16,
   "metadata": {},
   "outputs": [
    {
     "name": "stdout",
     "output_type": "stream",
     "text": [
      "This is the start of our conversation, so you haven't asked a previous question yet. What can I help you with today?\n"
     ]
    }
   ],
   "source": [
    "msg=\"what was my previous question?\"\n",
    "print(llm_invok(system_prompt,msg))"
   ]
  },
  {
   "cell_type": "code",
   "execution_count": 17,
   "metadata": {},
   "outputs": [
    {
     "name": "stdout",
     "output_type": "stream",
     "text": [
      "There are 28 states in India and 8 union territories.\n"
     ]
    }
   ],
   "source": [
    "msg = \"How many states in India\"\n",
    "print(llm_invok(system_prompt,msg))"
   ]
  },
  {
   "cell_type": "code",
   "execution_count": 18,
   "metadata": {},
   "outputs": [],
   "source": [
    "msg = \"Please enter second value   77 , 73  =\""
   ]
  },
  {
   "cell_type": "code",
   "execution_count": 19,
   "metadata": {},
   "outputs": [
    {
     "name": "stdout",
     "output_type": "stream",
     "text": [
      "77 - 73 = 4\n"
     ]
    }
   ],
   "source": [
    "print(llm_invok(system_prompt,msg))"
   ]
  },
  {
   "cell_type": "code",
   "execution_count": 20,
   "metadata": {},
   "outputs": [],
   "source": [
    "system_prompt= \"use the link provided here to answer the questions asked in the msg , link = 'https://njdg.ecourts.gov.in/njdg_v3/'  \"\n",
    "msg = \"what is the Number of cases of Bihar i criminal cases?\""
   ]
  },
  {
   "cell_type": "code",
   "execution_count": 21,
   "metadata": {},
   "outputs": [
    {
     "name": "stdout",
     "output_type": "stream",
     "text": [
      "Based on the provided link 'https://njdg.ecourts.gov.in/njdg_v3/', I was able to access the data. However, please note that the data may not be up-to-date or real-time.\n",
      "\n",
      "To get the number of cases of Bihar in criminal cases, I would suggest checking the 'State/UT-wise Pendency Details' or 'Court Pendency' section on the website.\n",
      "\n",
      "As of the cut-off date (mentioned as 2023), I'm not able to provide the exact real-time data. However, I can tell you how to find the data:\n",
      "\n",
      "1. Go to 'State/UT-wise Pendency Details'\n",
      "2. Select 'Bihar' from the dropdown list\n",
      "3. Select 'Criminal' from the case type\n",
      "4. Click on 'Submit'\n",
      "\n",
      "Please note that you will need to access the website to get the latest data, and the data may have changed since the cut-off date.\n"
     ]
    }
   ],
   "source": [
    "print(llm_invok(system_prompt,msg))"
   ]
  },
  {
   "cell_type": "code",
   "execution_count": 22,
   "metadata": {},
   "outputs": [],
   "source": [
    "msg = \"Can you find the data from this site using scraping?\""
   ]
  },
  {
   "cell_type": "code",
   "execution_count": 23,
   "metadata": {},
   "outputs": [
    {
     "name": "stdout",
     "output_type": "stream",
     "text": [
      "The site (https://njdg.ecourts.gov.in/njdg_v3/) appears to be using JavaScript to render its content, which makes scraping more challenging.\n",
      "\n",
      "Here's a basic example of how you can scrape the data using Selenium and BeautifulSoup libraries in Python. This example will focus on scraping the data from the homepage.\n",
      "\n",
      "```python\n",
      "# Import required libraries\n",
      "from bs4 import BeautifulSoup\n",
      "from selenium import webdriver\n",
      "from selenium.webdriver.firefox.options import Options\n",
      "from selenium.webdriver.common.by import By\n",
      "import time\n",
      "import pandas as pd\n",
      "\n",
      "# Set up the webdriver\n",
      "options = Options()\n",
      "options.headless = True  # To run the browser in headless mode\n",
      "\n",
      "# Replace with your own path to the Firefox executable\n",
      "driver = webdriver.Firefox(options=options)\n",
      "\n",
      "# Navigate to the website\n",
      "driver.get(\"https://njdg.ecourts.gov.in/njdg_v3/\")\n",
      "\n",
      "# Wait for the page to load\n",
      "time.sleep(5)\n",
      "\n",
      "# Parse the HTML content\n",
      "soup = BeautifulSoup(driver.page_source, 'html.parser')\n",
      "\n",
      "# Close the browser window\n",
      "driver.quit()\n",
      "\n",
      "# Find the required data\n",
      "tables = soup.find_all('table')\n",
      "\n",
      "# Create a DataFrame to store the data\n",
      "data = []\n",
      "\n",
      "# Loop through each table\n",
      "for table in tables:\n",
      "    # Find all rows in the table\n",
      "    rows = table.find_all('tr')\n",
      "    \n",
      "    # Loop through each row\n",
      "    for row in rows:\n",
      "        # Find all columns in the row\n",
      "        cols = row.find_all('td')\n",
      "        \n",
      "        # Initialize a temporary list to store the row data\n",
      "        temp_data = []\n",
      "        \n",
      "        # Loop through each column\n",
      "        for col in cols:\n",
      "            # Add the text from the column to the temporary list\n",
      "            temp_data.append(col.get_text().strip())\n",
      "        \n",
      "        # Add the row data to the main data list\n",
      "        data.append(temp_data)\n",
      "\n",
      "# Convert the data into a Pandas DataFrame\n",
      "df = pd.DataFrame(data)\n",
      "\n",
      "# Print the DataFrame\n",
      "print(df)\n",
      "```\n",
      "\n",
      "Before you can run the above script, ensure you have the following installed:\n",
      "\n",
      "*   Firefox\n",
      "*   GeckoDriver\n",
      "*   The Python packages `beautifulsoup4`, `selenium`, `pandas` can be installed via pip.\n",
      "\n",
      "Additionally, make sure to replace `'path_to_firefox'` with the path to your Firefox executable on your local machine. If the path to the Firefox executable is in your system's PATH, you won't need to specify it when initializing the `webdriver`.\n",
      "\n",
      "After running the script, you can view the data that was scraped from the webpage. If the data doesn't match your expectations, you may need to inspect the webpage and modify the script to match the layout of the webpage.\n",
      "\n",
      "Lastly, always ensure you are respecting the website's terms of service when web scraping and that the script does not put an undue load on the server. Also, consider using the site's official API (if available) for a more reliable and efficient data scraping experience.\n"
     ]
    }
   ],
   "source": [
    "print(llm_invok(system_prompt,msg))"
   ]
  },
  {
   "cell_type": "code",
   "execution_count": 24,
   "metadata": {},
   "outputs": [
    {
     "name": "stdout",
     "output_type": "stream",
     "text": [
      "Defaulting to user installation because normal site-packages is not writeable\n",
      "Requirement already satisfied: bs4 in /home/trex4096/.local/lib/python3.12/site-packages (0.0.2)\n",
      "Requirement already satisfied: beautifulsoup4 in /usr/lib/python3.12/site-packages (from bs4) (4.12.3)\n",
      "Requirement already satisfied: soupsieve>1.2 in /usr/lib/python3.12/site-packages (from beautifulsoup4->bs4) (2.5)\n",
      "\n",
      "\u001b[1m[\u001b[0m\u001b[34;49mnotice\u001b[0m\u001b[1;39;49m]\u001b[0m\u001b[39;49m A new release of pip is available: \u001b[0m\u001b[31;49m24.2\u001b[0m\u001b[39;49m -> \u001b[0m\u001b[32;49m24.3\u001b[0m\n",
      "\u001b[1m[\u001b[0m\u001b[34;49mnotice\u001b[0m\u001b[1;39;49m]\u001b[0m\u001b[39;49m To update, run: \u001b[0m\u001b[32;49mpip install --upgrade pip\u001b[0m\n",
      "Defaulting to user installation because normal site-packages is not writeable\n",
      "Requirement already satisfied: requests in /usr/lib/python3.12/site-packages (2.31.0)\n",
      "Requirement already satisfied: charset-normalizer<4,>=2 in /usr/lib/python3.12/site-packages (from requests) (3.3.2)\n",
      "Requirement already satisfied: idna<4,>=2.5 in /usr/lib/python3.12/site-packages (from requests) (3.7)\n",
      "Requirement already satisfied: urllib3<3,>=1.21.1 in /usr/lib/python3.12/site-packages (from requests) (1.26.20)\n",
      "\n",
      "\u001b[1m[\u001b[0m\u001b[34;49mnotice\u001b[0m\u001b[1;39;49m]\u001b[0m\u001b[39;49m A new release of pip is available: \u001b[0m\u001b[31;49m24.2\u001b[0m\u001b[39;49m -> \u001b[0m\u001b[32;49m24.3\u001b[0m\n",
      "\u001b[1m[\u001b[0m\u001b[34;49mnotice\u001b[0m\u001b[1;39;49m]\u001b[0m\u001b[39;49m To update, run: \u001b[0m\u001b[32;49mpip install --upgrade pip\u001b[0m\n"
     ]
    }
   ],
   "source": [
    "!pip3 install bs4\n",
    "!pip3 install requests"
   ]
  },
  {
   "cell_type": "code",
   "execution_count": 25,
   "metadata": {},
   "outputs": [],
   "source": [
    "def get_html_content():\n",
    "    import requests\n",
    "    from bs4 import BeautifulSoup\n",
    "    import re\n",
    "    # print(requests.get(\"https://njdg.ecourts.gov.in/njdg_v3/\").content)\n",
    "    resp = requests.get(\"https://njdg.ecourts.gov.in/\")\n",
    "    \"\"\" print(resp.content) \"\"\"\n",
    "    soup = BeautifulSoup(resp.content, \"html.parser\")\n",
    "    \"\"\" print(soup.prettify()) \"\"\"\n",
    "    return soup"
   ]
  },
  {
   "cell_type": "code",
   "execution_count": 26,
   "metadata": {},
   "outputs": [
    {
     "name": "stdout",
     "output_type": "stream",
     "text": [
      "NJDG-National Judicial Data Grid\n"
     ]
    }
   ],
   "source": [
    "soup = get_html_content()\n",
    "print(soup.title.string)"
   ]
  },
  {
   "cell_type": "code",
   "execution_count": 27,
   "metadata": {},
   "outputs": [],
   "source": [
    "soup = get_html_content()\n",
    "system_prompt = f\"print soup\"\n",
    "msg = \"Number of Cases listed today on the website\""
   ]
  },
  {
   "cell_type": "code",
   "execution_count": 28,
   "metadata": {},
   "outputs": [],
   "source": [
    "def get_data():\n",
    "    import requests\n",
    "    from bs4 import BeautifulSoup\n",
    "    import re\n",
    "\n",
    "    resp = requests.get(\"https://njdg.ecourts.gov.in/\")\n",
    "\n",
    "    soup = BeautifulSoup(resp.content, \"html.parser\")\n",
    "    script_tags = soup.find_all('script', {'type': 'text/javascript'})\n",
    "    for script in script_tags:\n",
    "        if script.string and 'Less than one year' in script.string:\n",
    "            html_content =  script.string\n",
    "            break\n",
    "    soup = BeautifulSoup(html_content, 'html.parser')\n",
    "    script_content = soup.get_text()\n",
    "    pending_agewise_values = re.findall(r'pendingAgewiseBarChart\\(\\s*\\'[^\\']+\\',\\s*\\'([^\\']+)\\',\\s*\\'([^\\']+)\\',', script_content)\n",
    "    if pending_agewise_values:\n",
    "        first_set = pending_agewise_values[0][0].split('~')\n",
    "        second_set = pending_agewise_values[0][1].split('~')\n",
    "\n",
    "    # Output:\n",
    "    Civil = []\n",
    "    Criminal = []\n",
    "    i=0\n",
    "    j=0\n",
    "    index = ['Less than 1 year','1-3 years','3-5 years','5-10 years','10-20 years']\n",
    "    for cases in first_set:\n",
    "        Civil.append((index[i],cases))\n",
    "        i+=1\n",
    "    for cases in second_set:\n",
    "        Criminal.append((index[j],cases))\n",
    "        j+=1\n",
    "    return Civil,Criminal\n",
    "    \n"
   ]
  },
  {
   "cell_type": "code",
   "execution_count": null,
   "metadata": {},
   "outputs": [],
   "source": []
  },
  {
   "cell_type": "code",
   "execution_count": 29,
   "metadata": {},
   "outputs": [],
   "source": [
    "civil,criminal = get_data()\n",
    "\n",
    "system_prompt = f\"civil cases = {civil} criminal cases = {criminal}\"\n",
    "msg = \"Number of pending civil cases for 1-3 years\""
   ]
  },
  {
   "cell_type": "code",
   "execution_count": 30,
   "metadata": {},
   "outputs": [
    {
     "name": "stdout",
     "output_type": "stream",
     "text": [
      "The number of pending civil cases for 1-3 years is 2,535,243.\n"
     ]
    }
   ],
   "source": [
    "print(llm_invok(system_prompt,msg))"
   ]
  },
  {
   "cell_type": "code",
   "execution_count": 31,
   "metadata": {},
   "outputs": [],
   "source": [
    "msg = \"hey chatbot give me the number of pending criminal cases for 5-10 years\""
   ]
  },
  {
   "cell_type": "code",
   "execution_count": 32,
   "metadata": {},
   "outputs": [
    {
     "name": "stdout",
     "output_type": "stream",
     "text": [
      "According to the given data, the number of pending criminal cases for 5-10 years is 5,836,422.\n"
     ]
    }
   ],
   "source": [
    "print(llm_invok(system_prompt,msg))"
   ]
  },
  {
   "cell_type": "code",
   "execution_count": 33,
   "metadata": {},
   "outputs": [],
   "source": [
    "def features():\n",
    "    import requests\n",
    "    from bs4 import BeautifulSoup\n",
    "\n",
    "    # Make a request to the webpage\n",
    "    url = 'https://njdg.ecourts.gov.in/njdg_v3/'\n",
    "    response = requests.get(url)\n",
    "\n",
    "    # Parse the page content\n",
    "    soup = BeautifulSoup(response.text, 'html.parser')\n",
    "\n",
    "    # Scrape all 'span' elements with the class 'h4'\n",
    "    element_a = soup.find_all('span', class_='h4')\n",
    "\n",
    "    # Loop through all elements to check if they contain an 'a' tag with an 'onclick' attribute\n",
    "    instituted_in_last_month = set()\n",
    "    disposal_in_last_month = set()\n",
    "    listed_today = set()\n",
    "    undated = set()\n",
    "    excessive_dated = set()\n",
    "    cases_filled_by_women = set()\n",
    "    cases_filled_by_senior_citizens = set()\n",
    "    contested_cases = set()\n",
    "    uncontested_cases = set()\n",
    "    for element in element_a:\n",
    "        # Check if the 'span' contains an 'a' tag\n",
    "        link = element.find('a')\n",
    "        if link and link.has_attr('onclick'):\n",
    "            # Print the 'onclick' attribute and the text inside the 'a' tag\n",
    "            if link['onclick'] == \"fetchStateData('ins',2);\":\n",
    "                instituted_in_last_month.add(('Civil' , link.text.strip()))\n",
    "            elif link['onclick'] == \"fetchStateData('ins',1);\":\n",
    "                instituted_in_last_month.add(('Criminal' , link.text.strip()))\n",
    "            elif link['onclick'] == \"fetchStateData('ins',3);\":\n",
    "                instituted_in_last_month.add(('Civil & Criminal' , link.text.strip()))\n",
    "            elif link['onclick'] == \"fetchStateData('disp',2);\":\n",
    "                disposal_in_last_month.add(('Civil' , link.text.strip()))\n",
    "            elif link['onclick'] == \"fetchStateData('disp',3);\":\n",
    "                disposal_in_last_month.add(('Criminal' , link.text.strip()))\n",
    "            elif link['onclick'] == \"fetchStateData('disp',1);\":\n",
    "                disposal_in_last_month.add(('Civil & Criminal' , link.text.strip()))\n",
    "            elif link['onclick'] == \"javascript:getAlertData('listed','2')\":\n",
    "                listed_today.add(('Civil' , link.text.strip()))\n",
    "            elif link['onclick'] == \"javascript:getAlertData('listed','3')\":\n",
    "                listed_today.add(('Criminal' , link.text.strip()))\n",
    "            elif link['onclick'] == \"javascript:getAlertData('listed','1')\":\n",
    "                listed_today.add(('Civil & Criminal' , link.text.strip()))\n",
    "            elif link['onclick'] == \"javascript:getAlertData('undated','2')\":\n",
    "                undated.add(('Civil' , link.text.strip()))\n",
    "            elif link['onclick'] == \"javascript:getAlertData('undated','3')\":\n",
    "                undated.add(('Criminal' , link.text.strip()))\n",
    "            elif link['onclick'] == \"javascript:getAlertData('undated','1')\":\n",
    "                undated.add(('Civil & Criminal' , link.text.strip()))\n",
    "            elif link['onclick'] == \"javascript:getAlertData('excessive','2')\":\n",
    "                excessive_dated.add(('Civil' , link.text.strip()))\n",
    "            elif link['onclick'] == \"javascript:getAlertData('excessive','3')\":\n",
    "                excessive_dated.add(('Criminal' , link.text.strip()))\n",
    "            elif link['onclick'] == \"javascript:getAlertData('excessive','1')\":\n",
    "                excessive_dated.add(('Civil & Criminal' , link.text.strip()))\n",
    "            elif link['onclick'] == \"fetchStateData('women',2);\":\n",
    "                cases_filled_by_women.add(('Civil' , link.text.strip()))\n",
    "            elif link['onclick'] == \"fetchStateData('women',3);\":\n",
    "                cases_filled_by_women.add(('Criminal' , link.text.strip()))\n",
    "            elif link['onclick'] == \"fetchStateData('women',1);\":\n",
    "                cases_filled_by_women.add(('Civil & Criminal' , link.text.strip()))\n",
    "            elif link['onclick'] == \"fetchStateData('citizen',2);\":\n",
    "                cases_filled_by_senior_citizens.add(('Civil' , link.text.strip()))\n",
    "            elif link['onclick'] == \"fetchStateData('citizen',3);\":\n",
    "                cases_filled_by_senior_citizens.add(('Criminal' , link.text.strip()))\n",
    "            elif link['onclick'] == \"fetchStateData('citizen',1);\":\n",
    "                cases_filled_by_senior_citizens.add(('Civil & Criminal' , link.text.strip()))  \n",
    "\n",
    "    tables = soup.find_all('table')\n",
    "\n",
    "    # Loop through each table to find the span elements with class 'h4'\n",
    "    k=0\n",
    "\n",
    "    for table in tables:\n",
    "        spans = table.find_all('span', class_='h4')\n",
    "\n",
    "        for span in spans:\n",
    "            if k==21:\n",
    "                contested_cases.add(('Civil' , span.text.strip()))\n",
    "            elif k==22:\n",
    "                contested_cases.add(('Criminal' , span.text.strip()))\n",
    "            elif k==23:\n",
    "                contested_cases.add(('Civil & Criminal' , span.text.strip()))\n",
    "            elif k==24:\n",
    "                uncontested_cases.add(('Civil' , span.text.strip()))\n",
    "            elif k==25:\n",
    "                uncontested_cases.add(('Criminal' , span.text.strip()))\n",
    "            elif k==26:\n",
    "                uncontested_cases.add(('Civil & Criminal' , span.text.strip()))\n",
    "            k+=1\n",
    "    return instituted_in_last_month,disposal_in_last_month,listed_today,undated,excessive_dated,cases_filled_by_women,cases_filled_by_senior_citizens,contested_cases,uncontested_cases"
   ]
  },
  {
   "cell_type": "code",
   "execution_count": 34,
   "metadata": {},
   "outputs": [],
   "source": [
    "instituted_in_last_month,disposal_in_last_month,listed_today,undated,excessive_dated,cases_filled_by_woemn,cases_filled_by_senior_citizens,contested_cases,uncontested_cases = features()\n",
    "system_prompt = f\"instituted_in_last_month = {instituted_in_last_month} disposal_in_last_month = {disposal_in_last_month} listed_today = {listed_today} undated = {undated} excessive_dated = {excessive_dated} cases_filled_by_women = {cases_filled_by_woemn} cases_filled_by_senior_citizens = {cases_filled_by_senior_citizens} contested_cases = {contested_cases} uncontested_cases = {uncontested_cases} where civil_cases are civil cases. criminal cases are criminal cases and civil & criminal are total cases combined\"\n",
    "msg = \"How many undated cases are there in criminal cases?\""
   ]
  },
  {
   "cell_type": "code",
   "execution_count": 35,
   "metadata": {},
   "outputs": [
    {
     "name": "stdout",
     "output_type": "stream",
     "text": [
      "There are 22,82,053 undated cases in criminal cases.\n"
     ]
    }
   ],
   "source": [
    "print(llm_invok(system_prompt,msg))"
   ]
  },
  {
   "cell_type": "code",
   "execution_count": 36,
   "metadata": {},
   "outputs": [],
   "source": [
    "msg = \"What is the number of cases listed today\""
   ]
  },
  {
   "cell_type": "code",
   "execution_count": 37,
   "metadata": {},
   "outputs": [
    {
     "name": "stdout",
     "output_type": "stream",
     "text": [
      "To find the number of cases listed today, we'll have to add up all the cases.\n",
      "\n",
      "Number of cases listed today: \n",
      "('Civil', '31,922') \n",
      "+ ('Civil & Criminal', '1,29,192') \n",
      "+ ('Criminal', '99,739') \n",
      " \n",
      "31,922 + 1,29,192 + 99,739 = 2,60,853 \n",
      "\n",
      "So the number of cases listed today is 2,60,853.\n"
     ]
    }
   ],
   "source": [
    "print(llm_invok(system_prompt,msg))"
   ]
  },
  {
   "cell_type": "code",
   "execution_count": 38,
   "metadata": {},
   "outputs": [
    {
     "name": "stdout",
     "output_type": "stream",
     "text": [
      "Defaulting to user installation because normal site-packages is not writeable\n",
      "Requirement already satisfied: requests in /usr/lib/python3.12/site-packages (2.31.0)\n",
      "Requirement already satisfied: charset-normalizer<4,>=2 in /usr/lib/python3.12/site-packages (from requests) (3.3.2)\n",
      "Requirement already satisfied: idna<4,>=2.5 in /usr/lib/python3.12/site-packages (from requests) (3.7)\n",
      "Requirement already satisfied: urllib3<3,>=1.21.1 in /usr/lib/python3.12/site-packages (from requests) (1.26.20)\n",
      "\n",
      "\u001b[1m[\u001b[0m\u001b[34;49mnotice\u001b[0m\u001b[1;39;49m]\u001b[0m\u001b[39;49m A new release of pip is available: \u001b[0m\u001b[31;49m24.2\u001b[0m\u001b[39;49m -> \u001b[0m\u001b[32;49m24.3\u001b[0m\n",
      "\u001b[1m[\u001b[0m\u001b[34;49mnotice\u001b[0m\u001b[1;39;49m]\u001b[0m\u001b[39;49m To update, run: \u001b[0m\u001b[32;49mpip install --upgrade pip\u001b[0m\n"
     ]
    }
   ],
   "source": [
    "!pip3 install requests\n"
   ]
  },
  {
   "cell_type": "code",
   "execution_count": 39,
   "metadata": {},
   "outputs": [],
   "source": [
    "def caseStatus(diary_no, diary_year):\n",
    "    url = f\"https://www.sci.gov.in/wp-admin/admin-ajax.php\"\n",
    "    params = {\n",
    "        'diary_no': diary_no,\n",
    "        'diary_year': diary_year,\n",
    "        'tab_name': 'case_details',\n",
    "        'action': 'get_case_details',\n",
    "        'es_ajax_request': '1',\n",
    "        'language': 'en'\n",
    "    }\n",
    "    \n",
    "    response = requests.get(url, params=params)\n",
    "    \n",
    "    if response.status_code == 200:\n",
    "        # print(response.json()['data'])\n",
    "        return response.json()['data']  # Assuming the response is in JSON format\n",
    "    else:\n",
    "        return f\"Error: {response.status_code}\"\n",
    "\n",
    "# Function to detect diary number and year in the user's message\n",
    "def detect_diary_no_and_year(msg):\n",
    "    # Regex to find a 4-5 digit diary number and a 4-digit year\n",
    "    diary_no_match = re.search(r\"\\b(\\d{4,5})\\b\", msg)\n",
    "    diary_year_match = re.search(r\"\\b(20\\d{2})\\b\", msg)\n",
    "    \n",
    "    if diary_no_match and diary_year_match:\n",
    "        diary_no = diary_no_match.group(1)\n",
    "        diary_year = diary_year_match.group(1)\n",
    "        return diary_no, diary_year\n",
    "    else:\n",
    "        return None, None\n",
    "\n",
    "# Function to detect if the user is asking for case status\n",
    "def is_case_status_query(msg):\n",
    "    case_keywords = ['case status', 'diary number', 'case details', 'case information', 'current case status']\n",
    "    return any(keyword in msg.lower() for keyword in case_keywords)\n",
    "\n",
    "# Function to summarize the case status\n",
    "def summarize_case_status(diary_no, diary_year):\n",
    "    case_data = caseStatus(diary_no, diary_year)\n",
    "    system_prompt = \"Summarize the case\"\n",
    "    return llm_invok(system_prompt, case_data)\n",
    "\n",
    "# Function to detect if user is asking for case status in general and respond accordingly\n",
    "def handle_case_status_request(msg):\n",
    "    # Check if the user is asking for a case status\n",
    "    if \"can you give\" in msg.lower() and \"case status\" in msg.lower():\n",
    "        return \"Yes, I can provide your case status. Please provide the diary number and the diary year.\"\n",
    "    \n",
    "    # Check if the message contains diary number and year already\n",
    "    diary_no, diary_year = detect_diary_no_and_year(msg)\n",
    "    if diary_no and diary_year:\n",
    "        system_prompt = summarize_case_status(diary_no, diary_year)\n",
    "        return system_prompt\n",
    "    else:\n",
    "        return \"I couldn't detect both the diary number and year. Please provide both to continue.\"\n"
   ]
  },
  {
   "cell_type": "code",
   "execution_count": 40,
   "metadata": {},
   "outputs": [
    {
     "ename": "NameError",
     "evalue": "name 're' is not defined",
     "output_type": "error",
     "traceback": [
      "\u001b[0;31m---------------------------------------------------------------------------\u001b[0m",
      "\u001b[0;31mNameError\u001b[0m                                 Traceback (most recent call last)",
      "Cell \u001b[0;32mIn[40], line 3\u001b[0m\n\u001b[1;32m      1\u001b[0m msg \u001b[38;5;241m=\u001b[39m \u001b[38;5;124m\"\u001b[39m\u001b[38;5;124mcase status 45623 1234\u001b[39m\u001b[38;5;124m\"\u001b[39m\n\u001b[0;32m----> 3\u001b[0m \u001b[38;5;28mprint\u001b[39m(\u001b[43mhandle_case_status_request\u001b[49m\u001b[43m(\u001b[49m\u001b[43mmsg\u001b[49m\u001b[43m)\u001b[49m)\n",
      "Cell \u001b[0;32mIn[39], line 51\u001b[0m, in \u001b[0;36mhandle_case_status_request\u001b[0;34m(msg)\u001b[0m\n\u001b[1;32m     48\u001b[0m     \u001b[38;5;28;01mreturn\u001b[39;00m \u001b[38;5;124m\"\u001b[39m\u001b[38;5;124mYes, I can provide your case status. Please provide the diary number and the diary year.\u001b[39m\u001b[38;5;124m\"\u001b[39m\n\u001b[1;32m     50\u001b[0m \u001b[38;5;66;03m# Check if the message contains diary number and year already\u001b[39;00m\n\u001b[0;32m---> 51\u001b[0m diary_no, diary_year \u001b[38;5;241m=\u001b[39m \u001b[43mdetect_diary_no_and_year\u001b[49m\u001b[43m(\u001b[49m\u001b[43mmsg\u001b[49m\u001b[43m)\u001b[49m\n\u001b[1;32m     52\u001b[0m \u001b[38;5;28;01mif\u001b[39;00m diary_no \u001b[38;5;129;01mand\u001b[39;00m diary_year:\n\u001b[1;32m     53\u001b[0m     system_prompt \u001b[38;5;241m=\u001b[39m summarize_case_status(diary_no, diary_year)\n",
      "Cell \u001b[0;32mIn[39], line 23\u001b[0m, in \u001b[0;36mdetect_diary_no_and_year\u001b[0;34m(msg)\u001b[0m\n\u001b[1;32m     21\u001b[0m \u001b[38;5;28;01mdef\u001b[39;00m \u001b[38;5;21mdetect_diary_no_and_year\u001b[39m(msg):\n\u001b[1;32m     22\u001b[0m     \u001b[38;5;66;03m# Regex to find a 4-5 digit diary number and a 4-digit year\u001b[39;00m\n\u001b[0;32m---> 23\u001b[0m     diary_no_match \u001b[38;5;241m=\u001b[39m \u001b[43mre\u001b[49m\u001b[38;5;241m.\u001b[39msearch(\u001b[38;5;124mr\u001b[39m\u001b[38;5;124m\"\u001b[39m\u001b[38;5;124m\\\u001b[39m\u001b[38;5;124mb(\u001b[39m\u001b[38;5;124m\\\u001b[39m\u001b[38;5;124md\u001b[39m\u001b[38;5;124m{\u001b[39m\u001b[38;5;124m4,5})\u001b[39m\u001b[38;5;124m\\\u001b[39m\u001b[38;5;124mb\u001b[39m\u001b[38;5;124m\"\u001b[39m, msg)\n\u001b[1;32m     24\u001b[0m     diary_year_match \u001b[38;5;241m=\u001b[39m re\u001b[38;5;241m.\u001b[39msearch(\u001b[38;5;124mr\u001b[39m\u001b[38;5;124m\"\u001b[39m\u001b[38;5;124m\\\u001b[39m\u001b[38;5;124mb(20\u001b[39m\u001b[38;5;124m\\\u001b[39m\u001b[38;5;124md\u001b[39m\u001b[38;5;132;01m{2}\u001b[39;00m\u001b[38;5;124m)\u001b[39m\u001b[38;5;124m\\\u001b[39m\u001b[38;5;124mb\u001b[39m\u001b[38;5;124m\"\u001b[39m, msg)\n\u001b[1;32m     26\u001b[0m     \u001b[38;5;28;01mif\u001b[39;00m diary_no_match \u001b[38;5;129;01mand\u001b[39;00m diary_year_match:\n",
      "\u001b[0;31mNameError\u001b[0m: name 're' is not defined"
     ]
    }
   ],
   "source": [
    "msg = \"case status 45623 1234\"\n",
    "\n",
    "print(handle_case_status_request(msg))"
   ]
  },
  {
   "cell_type": "code",
   "execution_count": null,
   "metadata": {},
   "outputs": [],
   "source": []
  },
  {
   "cell_type": "code",
   "execution_count": null,
   "metadata": {},
   "outputs": [],
   "source": []
  },
  {
   "cell_type": "code",
   "execution_count": null,
   "metadata": {},
   "outputs": [],
   "source": []
  }
 ],
 "metadata": {
  "kernelspec": {
   "display_name": "Python 3",
   "language": "python",
   "name": "python3"
  },
  "language_info": {
   "codemirror_mode": {
    "name": "ipython",
    "version": 3
   },
   "file_extension": ".py",
   "mimetype": "text/x-python",
   "name": "python",
   "nbconvert_exporter": "python",
   "pygments_lexer": "ipython3",
   "version": "3.12.6"
  }
 },
 "nbformat": 4,
 "nbformat_minor": 2
}
